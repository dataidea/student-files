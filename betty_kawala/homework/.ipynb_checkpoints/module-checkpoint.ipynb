{
 "cells": [
  {
   "cell_type": "code",
   "execution_count": null,
   "metadata": {},
   "outputs": [],
   "source": [
    "# Qn.1 (C)\n",
    "# Qn.2 (A)\n",
    "# Qn.3 (B)\n",
    "# Qn.4 (C)\n",
    "# Qn.5 (D)\n",
    "# Qn.6 (A)\n",
    "# Qn.7 (None) re module\n",
    "# Qn.8 (B)"
   ]
  },
  {
   "cell_type": "code",
   "execution_count": 1,
   "metadata": {},
   "outputs": [
    {
     "name": "stdout",
     "output_type": "stream",
     "text": [
      "4.0\n"
     ]
    }
   ],
   "source": [
    "# Qn.1\n",
    "import math\n",
    "number = 16\n",
    "number_sqrt = math.sqrt(number)\n",
    "print(number_sqrt)"
   ]
  },
  {
   "cell_type": "code",
   "execution_count": 7,
   "metadata": {},
   "outputs": [
    {
     "name": "stdout",
     "output_type": "stream",
     "text": [
      "7\n"
     ]
    }
   ],
   "source": [
    "# Qn.2\n",
    "import random\n",
    "random_integer = random.randint(1,10)\n",
    "print(random_integer)"
   ]
  },
  {
   "cell_type": "code",
   "execution_count": 8,
   "metadata": {},
   "outputs": [
    {
     "name": "stdout",
     "output_type": "stream",
     "text": [
      "2024-05-05 19:45:29.343361\n"
     ]
    }
   ],
   "source": [
    "# Qn.3\n",
    "import datetime\n",
    "current_date_time = datetime.datetime.now()\n",
    "print(current_date_time)"
   ]
  },
  {
   "cell_type": "code",
   "execution_count": 11,
   "metadata": {},
   "outputs": [
    {
     "name": "stdout",
     "output_type": "stream",
     "text": [
      "Name: John\n",
      "Age: 30\n",
      "City: New York\n"
     ]
    }
   ],
   "source": [
    "# Qn.4\n",
    "import json\n",
    "data = '{\"name\":\"John\",\"age\":30,\"city\":\"New York\"}'\n",
    "data_dictionary = json.loads(data)\n",
    "print(\"Name:\",data_dictionary[\"name\"])\n",
    "print(\"Age:\", data_dictionary[\"age\"])\n",
    "print(\"City:\", data_dictionary[\"city\"])\n"
   ]
  },
  {
   "cell_type": "code",
   "execution_count": 12,
   "metadata": {},
   "outputs": [
    {
     "name": "stdout",
     "output_type": "stream",
     "text": [
      "[]\n"
     ]
    }
   ],
   "source": [
    "# Qn.5\n",
    "import re\n",
    "text = \"This code quiz tests your ability to import modules correctly and use them to perform various tasks such as mathematical calculations, working with dates and times, handling JSON data, and using regular expressions.\"\n",
    "pattern = r\"[a-zA-Z0-9_.+-]+@[a-zA-Z0-9-]+\\.[a-zA-Z0-9-.]+\"\n",
    "email_addresses = re.findall(pattern,text)\n",
    "print(email_addresses)"
   ]
  }
 ],
 "metadata": {
  "kernelspec": {
   "display_name": "Python 3",
   "language": "python",
   "name": "python3"
  },
  "language_info": {
   "codemirror_mode": {
    "name": "ipython",
    "version": 3
   },
   "file_extension": ".py",
   "mimetype": "text/x-python",
   "name": "python",
   "nbconvert_exporter": "python",
   "pygments_lexer": "ipython3",
   "version": "3.12.2"
  }
 },
 "nbformat": 4,
 "nbformat_minor": 2
}
