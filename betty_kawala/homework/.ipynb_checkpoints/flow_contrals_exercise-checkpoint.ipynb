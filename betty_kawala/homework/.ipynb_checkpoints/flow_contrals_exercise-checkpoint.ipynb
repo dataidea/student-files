{
 "cells": [
  {
   "cell_type": "code",
   "execution_count": 1,
   "metadata": {},
   "outputs": [
    {
     "name": "stdout",
     "output_type": "stream",
     "text": [
      "odd\n"
     ]
    }
   ],
   "source": [
    "#Qn.1 Even or Odd\n",
    "#number = int(input(\"number:\"))\n",
    "def even_or_odd (number):\n",
    "    if number % 2 == 0:\n",
    "        print (\"even\")\n",
    "    else:\n",
    "        print (\"odd\")  \n",
    "even_or_odd (9) "
   ]
  },
  {
   "cell_type": "code",
   "execution_count": 2,
   "metadata": {},
   "outputs": [
    {
     "name": "stdout",
     "output_type": "stream",
     "text": [
      "8\n",
      "9\n"
     ]
    }
   ],
   "source": [
    "#Qn.2 Maximum of two numbers\n",
    "def max_of_two (number1,number2):\n",
    "    print (max(number1 , number2))\n",
    "max_of_two (4,8)\n",
    "\n",
    "# Another example\n",
    "def max_of_two (number1,number2):\n",
    "    if number1 > number2:\n",
    "        print (number1)\n",
    "    else:\n",
    "        print (number2)\n",
    "max_of_two (6,9) "
   ]
  },
  {
   "cell_type": "code",
   "execution_count": 4,
   "metadata": {},
   "outputs": [
    {
     "name": "stdout",
     "output_type": "stream",
     "text": [
      "False\n"
     ]
    }
   ],
   "source": [
    "#Qn.3 Leap Year Checker\n",
    "def is_leap_year (year):\n",
    "    print(year % 4 ==0 and (year % 100 !=0 or year % 400 == 0))            \n",
    "is_leap_year(1900)"
   ]
  },
  {
   "cell_type": "code",
   "execution_count": 7,
   "metadata": {},
   "outputs": [
    {
     "name": "stdout",
     "output_type": "stream",
     "text": [
      "120\n"
     ]
    }
   ],
   "source": [
    "#Qn.4 Factorial calculator\n",
    "def factorial_of_number(n):\n",
    "    if n==0 or n==1:\n",
    "        print(1)\n",
    "    else:\n",
    "        factorial = 1\n",
    "        for number in range (1, n+1):\n",
    "            factorial *= number\n",
    "        print(factorial)\n",
    "factorial_of_number(5)        "
   ]
  },
  {
   "cell_type": "code",
   "execution_count": 9,
   "metadata": {},
   "outputs": [
    {
     "name": "stdout",
     "output_type": "stream",
     "text": [
      "6\n",
      "6\n"
     ]
    }
   ],
   "source": [
    "# Qn.5 Greatest common divisor\n",
    "def gcd (number1, number2):\n",
    "   while number2 != 0 :\n",
    "       new_number2 = number2\n",
    "       number2 = number1%number2\n",
    "       number1 = new_number2\n",
    "       if number2==0:\n",
    "           print(number1)\n",
    "gcd(18,12) \n",
    "\n",
    "# another example\n",
    "def gcd (int1, int2):\n",
    "    divisor = min(int1 , int2)\n",
    "    while divisor > 0:\n",
    "        if int1 % divisor == 0 and int2 % divisor == 0 :\n",
    "            print(divisor)\n",
    "            break\n",
    "        divisor -= 1\n",
    "gcd(18,12)               "
   ]
  },
  {
   "cell_type": "code",
   "execution_count": 13,
   "metadata": {},
   "outputs": [
    {
     "name": "stdout",
     "output_type": "stream",
     "text": [
      "4\n"
     ]
    }
   ],
   "source": [
    "# Qn.6 Absolute value\n",
    "def absolute_value(number):\n",
    "    if number < 0:\n",
    "        print(- number)\n",
    "    else:\n",
    "        print(number)\n",
    "absolute_value(-4)   "
   ]
  },
  {
   "cell_type": "code",
   "execution_count": 12,
   "metadata": {},
   "outputs": [
    {
     "name": "stdout",
     "output_type": "stream",
     "text": [
      "77.0\n"
     ]
    }
   ],
   "source": [
    "#Qn.7 Temperature convertor\n",
    "def convert_temperature (Celsius):\n",
    "    Fahrenheit = (Celsius * (9/5)) + 32\n",
    "    print(Fahrenheit)\n",
    "convert_temperature(25) "
   ]
  },
  {
   "cell_type": "code",
   "execution_count": 11,
   "metadata": {},
   "outputs": [
    {
     "name": "stdout",
     "output_type": "stream",
     "text": [
      "B\n"
     ]
    }
   ],
   "source": [
    "#Qn.8 Grade caculator\n",
    "def calculate_grade (score):\n",
    "    if 90 <= score <= 100:\n",
    "        print('A')\n",
    "    elif 80 <= score <= 89:\n",
    "        print('B')\n",
    "    elif 70 <= score <= 79:\n",
    "        print('C')\n",
    "    elif 60 <= score <= 69:\n",
    "        print('D')\n",
    "    else:\n",
    "        print('F')\n",
    "calculate_grade (80)       "
   ]
  },
  {
   "cell_type": "code",
   "execution_count": 10,
   "metadata": {},
   "outputs": [
    {
     "name": "stdout",
     "output_type": "stream",
     "text": [
      "30\n"
     ]
    }
   ],
   "source": [
    "#Qn.9 Sum of squares with a loop\n",
    "def sum_of_squares(n):\n",
    "    sum = 0\n",
    "    for number in range (1, n+1):\n",
    "        sum += number ** 2\n",
    "    print(sum)\n",
    "sum_of_squares(4)        "
   ]
  },
  {
   "cell_type": "code",
   "execution_count": 16,
   "metadata": {},
   "outputs": [
    {
     "name": "stdout",
     "output_type": "stream",
     "text": [
      "None\n"
     ]
    }
   ],
   "source": [
    "#Qn.10 Quadratic equation solver\n",
    "def solve_quadratic(a,b,c):\n",
    "    discriminant = (b**2-(4*a*c))\n",
    "    if discriminant == 0:\n",
    "        root = -b/(2*a)\n",
    "        print((root))\n",
    "    elif discriminant > 0:\n",
    "        root1 = (-b + (discriminant)**0.5)/(2*a)\n",
    "        root2 = (-b - (discriminant)**0.5)/(2*a)\n",
    "        print((root1 , root2))\n",
    "    else:\n",
    "        discriminant < 0 \n",
    "        print((None))\n",
    "solve_quadratic(3,5,4)           "
   ]
  }
 ],
 "metadata": {
  "kernelspec": {
   "display_name": "Python 3",
   "language": "python",
   "name": "python3"
  },
  "language_info": {
   "codemirror_mode": {
    "name": "ipython",
    "version": 3
   },
   "file_extension": ".py",
   "mimetype": "text/x-python",
   "name": "python",
   "nbconvert_exporter": "python",
   "pygments_lexer": "ipython3",
   "version": "3.12.2"
  }
 },
 "nbformat": 4,
 "nbformat_minor": 2
}
